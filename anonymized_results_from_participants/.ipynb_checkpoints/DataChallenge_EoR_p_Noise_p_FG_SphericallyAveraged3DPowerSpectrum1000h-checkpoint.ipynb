{
 "cells": [
  {
   "cell_type": "code",
   "execution_count": 1,
   "metadata": {
    "collapsed": false
   },
   "outputs": [
    {
     "data": {
      "text/html": [
       "<script>jQuery(function() {if (jQuery(\"body.notebook_app\").length == 0) { jQuery(\".input_area\").toggle(); jQuery(\".prompt\").toggle();}});</script>"
      ]
     },
     "metadata": {},
     "output_type": "display_data"
    },
    {
     "data": {
      "text/html": [
       "<button onclick=\"jQuery('.input_area').toggle(); jQuery('.prompt').toggle();\">Toggle code</button>"
      ]
     },
     "metadata": {},
     "output_type": "display_data"
    }
   ],
   "source": [
    "from IPython.display import display\n",
    "from IPython.display import HTML\n",
    "import IPython.core.display as di # Example: di.display_html('<h3>%s:</h3>' % str, raw=True)\n",
    "\n",
    "# This line will hide code by default when the notebook is exported as HTML\n",
    "di.display_html('<script>jQuery(function() {if (jQuery(\"body.notebook_app\").length == 0) { jQuery(\".input_area\").toggle(); jQuery(\".prompt\").toggle();}});</script>', raw=True)\n",
    "\n",
    "# This line will add a button to toggle visibility of code blocks, for use with the HTML export version\n",
    "di.display_html('''<button onclick=\"jQuery('.input_area').toggle(); jQuery('.prompt').toggle();\">Toggle code</button>''', raw=True)"
   ]
  },
  {
   "cell_type": "code",
   "execution_count": 2,
   "metadata": {
    "collapsed": false
   },
   "outputs": [],
   "source": [
    "import numpy as np\n",
    "import matplotlib.pyplot as plt\n",
    "import pandas as pd\n",
    "#import seaborn as sns\n",
    "#sns.set()"
   ]
  },
  {
   "cell_type": "markdown",
   "metadata": {},
   "source": [
    "## Spherically averaged 3D power spectrum: EoR + noise + FG, 1000 hours"
   ]
  },
  {
   "cell_type": "code",
   "execution_count": 3,
   "metadata": {
    "collapsed": true
   },
   "outputs": [],
   "source": [
    "#Spherically averaged 3D power spectrum\n",
    "#EoR + noise + FG, 1000 hours\n",
    "#Read results from individual submitted results \n",
    "\n",
    "#Datasets\n",
    "#datasets = ['truth', 'kapteyn', 'curtin', 'bao-image', 'bao-vis', 'rri', 'ukzn']\n",
    "datasets = ['truth', 'team1', 'team2', 'team3', 'team4', 'team5', 'team6']\n",
    "#Colors to use for plotting different datasets\n",
    "plt_colors = ['k','r','y','g','b','m','c']\n",
    "\n",
    "#Plots directory\n",
    "plots_directory = '/home/modhurita/Work/SKA_blind_challenge_results_anonymized/plots'\n",
    "\n",
    "#Observation time in hours\n",
    "obsv_time = 1000"
   ]
  },
  {
   "cell_type": "code",
   "execution_count": 4,
   "metadata": {
    "collapsed": false
   },
   "outputs": [],
   "source": [
    "#Truth\n",
    "directory = '/home/modhurita/Work/SKA_blind_challenge_results_anonymized/truth/'\n",
    "\n",
    "#FG\n",
    "file_name = 'ps3d_GalFG_standard_eor0_u50-250.txt'\n",
    "filename = directory+file_name\n",
    "df_fg = pd.read_csv(filename,skiprows=3,delim_whitespace=True,usecols=[4,5],names=[('FG','d2'),('FG','d2_sv')])\n",
    "\n",
    "#EoR\n",
    "file_name = 'ps3d_eor_standard_eor0_u50-250.txt'\n",
    "filename = directory+file_name\n",
    "df_eor = pd.read_csv(filename,skiprows=3,delim_whitespace=True,usecols=[2,4,5],names=[('k',''),('EoR','d2'),('EoR','d2_sv')])\n",
    "\n",
    "#Compute error in EoR as d2 = sample variance of EoR signal. Noise is 0.\n",
    "df_eor['EoR', 'd2_total_error'] =  df_eor['EoR','d2_sv']\n",
    "\n",
    "#Concatenate the values of EoR, noise, FG into one dataframe\n",
    "df_list = [df_eor, df_fg]\n",
    "df = pd.concat(df_list,axis=1,join='inner')\n",
    "df_truth = df.assign(dataset='truth')"
   ]
  },
  {
   "cell_type": "code",
   "execution_count": 5,
   "metadata": {
    "collapsed": false
   },
   "outputs": [],
   "source": [
    "#Kapteyn\n",
    "directory = '/home/modhurita/Work/SKA_blind_challenge_results_anonymized/team1/results/eor_p_noise_p_fg/'\n",
    "\n",
    "#Noise\n",
    "file_name = 'ps3d_noise_1000h.txt'\n",
    "filename = directory+file_name\n",
    "df_noise = pd.read_csv(filename,skiprows=3,delim_whitespace=True,usecols=[1,2],names=[('Noise','d2'),('Noise','d2_sv')])\n",
    "\n",
    "#FG\n",
    "file_name = 'ps3d_rec_fg_1000h.txt'\n",
    "filename = directory+file_name\n",
    "df_fg = pd.read_csv(filename,skiprows=3,delim_whitespace=True,usecols=[1,2],names=[('FG','d2'),('FG','d2_sv')])\n",
    "\n",
    "#EoR\n",
    "file_name = 'ps3d_rec_eor_1000h.txt'\n",
    "filename = directory+file_name\n",
    "df_eor = pd.read_csv(filename,skiprows=3,delim_whitespace=True,names=[('k',''),('EoR','d2'),('EoR','d2_sv')])\n",
    "\n",
    "#Compute error in EoR as d2 = sample variance of EoR signal + Noise\n",
    "df_eor['EoR', 'd2_total_error'] =  df_eor['EoR','d2_sv'] + df_noise['Noise','d2']\n",
    "\n",
    "#Concatenate the values of EoR, noise, FG into one dataframe\n",
    "df_list = [df_eor, df_noise, df_fg]\n",
    "df = pd.concat(df_list,axis=1,join='inner')\n",
    "df_kapteyn = df.assign(dataset='team1')"
   ]
  },
  {
   "cell_type": "code",
   "execution_count": 6,
   "metadata": {
    "collapsed": false
   },
   "outputs": [],
   "source": [
    "#Curtin\n",
    "directory = '/home/modhurita/Work/SKA_blind_challenge_results_anonymized/team2/ska_data_challenge/'\n",
    "\n",
    "#EoR\n",
    "file_name = '1000h_eor_p_fg_p_noise_1d.txt'\n",
    "filename = directory+file_name\n",
    "df = pd.read_csv(filename,skiprows=1,nrows=9,delim_whitespace=True,\n",
    "                       names=[('k',''),('FG','d2'), ('EoR','d2'),('Noise','d2'),('Noise','d2_sv'),('EoR','d2_sv')])\n",
    "\n",
    "#Compute error in EoR as d2 = sample variance of EoR signal + Noise\n",
    "df['EoR', 'd2_total_error'] =  df['EoR','d2_sv'] + df['Noise','d2']\n",
    "\n",
    "#Concatenate the values of EoR, noise, FG into one dataframe\n",
    "df_curtin = df.assign(dataset='team2')"
   ]
  },
  {
   "cell_type": "code",
   "execution_count": 7,
   "metadata": {
    "collapsed": false
   },
   "outputs": [],
   "source": [
    "#BAO - images\n",
    "directory = '/home/modhurita/Work/SKA_blind_challenge_results_anonymized/team3_0/results_new/image/eor_p_noise_p_fg_1000/'\n",
    "\n",
    "#Noise\n",
    "file_name = 'noise_3d.txt'\n",
    "filename = directory+file_name\n",
    "df_noise = pd.read_csv(filename,skiprows=1,delim_whitespace=True,usecols=[1,2],names=[('Noise','d2'),('Noise','d2_sv')])\n",
    "\n",
    "#FG\n",
    "file_name = 'fg_3d.txt'\n",
    "filename = directory+file_name\n",
    "df_fg = pd.read_csv(filename,skiprows=1,delim_whitespace=True,usecols=[1,2],names=[('FG','d2'),('FG','d2_sv')])\n",
    "\n",
    "#EoR\n",
    "file_name = 'eor_3d.txt'\n",
    "filename = directory+file_name\n",
    "df_eor = pd.read_csv(filename,skiprows=1,delim_whitespace=True,usecols=[0,1,2],names=[('k',''),('EoR','d2'),('EoR','d2_sv')])\n",
    "\n",
    "#Compute error in EoR as d2 = sample variance of EoR signal + Noise\n",
    "df_eor['EoR', 'd2_total_error'] =  df_eor['EoR','d2_sv'] + df_noise['Noise','d2']\n",
    "\n",
    "#Concatenate the values of EoR, noise, FG into one dataframe\n",
    "df_list = [df_eor, df_noise, df_fg]\n",
    "df = pd.concat(df_list,axis=1,join='inner')\n",
    "df_bao_img = df.assign(dataset='team3')"
   ]
  },
  {
   "cell_type": "code",
   "execution_count": 10,
   "metadata": {
    "collapsed": true
   },
   "outputs": [],
   "source": [
    "#BAO - visibilities\n",
    "directory = '/home/modhurita/Work/SKA_blind_challenge_results_anonymized/team3_0/results_new/vis2image/eor_p_noise_p_fg_1000/'\n",
    "\n",
    "#Noise\n",
    "file_name = 'noise_3d.txt'\n",
    "filename = directory+file_name\n",
    "df_noise = pd.read_csv(filename,skiprows=1,delim_whitespace=True,usecols=[1,2],names=[('Noise','d2'),('Noise','d2_sv')])\n",
    "\n",
    "#FG\n",
    "file_name = 'fg_3d.txt'\n",
    "filename = directory+file_name\n",
    "df_fg = pd.read_csv(filename,skiprows=1,delim_whitespace=True,usecols=[1,2],names=[('FG','d2'),('FG','d2_sv')])\n",
    "\n",
    "#EoR\n",
    "file_name = 'eor_3d.txt'\n",
    "filename = directory+file_name\n",
    "df_eor = pd.read_csv(filename,skiprows=1,delim_whitespace=True,usecols=[0,1,2],names=[('k',''),('EoR','d2'),('EoR','d2_sv')])\n",
    "\n",
    "#Compute error in EoR as d2 = sample variance of EoR signal + Noise\n",
    "df_eor['EoR', 'd2_total_error'] =  df_eor['EoR','d2_sv'] + df_noise['Noise','d2']\n",
    "\n",
    "#Concatenate the values of EoR, noise, FG into one dataframe\n",
    "df_list = [df_eor, df_noise, df_fg]\n",
    "df = pd.concat(df_list,axis=1,join='inner')\n",
    "df_bao_vis = df.assign(dataset='team4')"
   ]
  },
  {
   "cell_type": "code",
   "execution_count": 11,
   "metadata": {
    "collapsed": false
   },
   "outputs": [
    {
     "ename": "IOError",
     "evalue": "File /home/modhurita/Work/SKA_blind_challenge_results_anonymized/team5/patwa_SKA_data_challenge/eor_p_noise_p_fg/ave1d_wei1_win1_eor_p_noise_p_fg_t_obsv_1000.0_hr.dat does not exist",
     "output_type": "error",
     "traceback": [
      "\u001b[0;31m---------------------------------------------------------------------------\u001b[0m",
      "\u001b[0;31mIOError\u001b[0m                                   Traceback (most recent call last)",
      "\u001b[0;32m<ipython-input-11-615d6e65763f>\u001b[0m in \u001b[0;36m<module>\u001b[0;34m()\u001b[0m\n\u001b[1;32m      6\u001b[0m \u001b[0mfilename\u001b[0m \u001b[0;34m=\u001b[0m \u001b[0mdirectory\u001b[0m\u001b[0;34m+\u001b[0m\u001b[0mfile_name\u001b[0m\u001b[0;34m\u001b[0m\u001b[0m\n\u001b[1;32m      7\u001b[0m \u001b[0;34m\u001b[0m\u001b[0m\n\u001b[0;32m----> 8\u001b[0;31m \u001b[0mdf_eor\u001b[0m \u001b[0;34m=\u001b[0m \u001b[0mpd\u001b[0m\u001b[0;34m.\u001b[0m\u001b[0mread_csv\u001b[0m\u001b[0;34m(\u001b[0m\u001b[0mfilename\u001b[0m\u001b[0;34m,\u001b[0m\u001b[0mdelim_whitespace\u001b[0m\u001b[0;34m=\u001b[0m\u001b[0mTrue\u001b[0m\u001b[0;34m,\u001b[0m\u001b[0musecols\u001b[0m\u001b[0;34m=\u001b[0m\u001b[0;34m[\u001b[0m\u001b[0;36m0\u001b[0m\u001b[0;34m,\u001b[0m\u001b[0;36m1\u001b[0m\u001b[0;34m,\u001b[0m\u001b[0;36m2\u001b[0m\u001b[0;34m]\u001b[0m\u001b[0;34m,\u001b[0m\u001b[0mnames\u001b[0m\u001b[0;34m=\u001b[0m\u001b[0;34m[\u001b[0m\u001b[0;34m(\u001b[0m\u001b[0;34m'k'\u001b[0m\u001b[0;34m,\u001b[0m\u001b[0;34m''\u001b[0m\u001b[0;34m)\u001b[0m\u001b[0;34m,\u001b[0m\u001b[0;34m(\u001b[0m\u001b[0;34m'EoR'\u001b[0m\u001b[0;34m,\u001b[0m\u001b[0;34m'd2'\u001b[0m\u001b[0;34m)\u001b[0m\u001b[0;34m,\u001b[0m\u001b[0;34m(\u001b[0m\u001b[0;34m'EoR'\u001b[0m\u001b[0;34m,\u001b[0m\u001b[0;34m'd2_sv'\u001b[0m\u001b[0;34m)\u001b[0m\u001b[0;34m]\u001b[0m\u001b[0;34m)\u001b[0m\u001b[0;34m\u001b[0m\u001b[0m\n\u001b[0m\u001b[1;32m      9\u001b[0m \u001b[0;34m\u001b[0m\u001b[0m\n\u001b[1;32m     10\u001b[0m \u001b[0;31m#95% solution interval corresponds to 2*sigma, so divide by 2 to get sample variance (=sigma)\u001b[0m\u001b[0;34m\u001b[0m\u001b[0;34m\u001b[0m\u001b[0m\n",
      "\u001b[0;32m/home/modhurita/anaconda2/lib/python2.7/site-packages/pandas/io/parsers.pyc\u001b[0m in \u001b[0;36mparser_f\u001b[0;34m(filepath_or_buffer, sep, delimiter, header, names, index_col, usecols, squeeze, prefix, mangle_dupe_cols, dtype, engine, converters, true_values, false_values, skipinitialspace, skiprows, skipfooter, nrows, na_values, keep_default_na, na_filter, verbose, skip_blank_lines, parse_dates, infer_datetime_format, keep_date_col, date_parser, dayfirst, iterator, chunksize, compression, thousands, decimal, lineterminator, quotechar, quoting, escapechar, comment, encoding, dialect, tupleize_cols, error_bad_lines, warn_bad_lines, skip_footer, doublequote, delim_whitespace, as_recarray, compact_ints, use_unsigned, low_memory, buffer_lines, memory_map, float_precision)\u001b[0m\n\u001b[1;32m    560\u001b[0m                     skip_blank_lines=skip_blank_lines)\n\u001b[1;32m    561\u001b[0m \u001b[0;34m\u001b[0m\u001b[0m\n\u001b[0;32m--> 562\u001b[0;31m         \u001b[0;32mreturn\u001b[0m \u001b[0m_read\u001b[0m\u001b[0;34m(\u001b[0m\u001b[0mfilepath_or_buffer\u001b[0m\u001b[0;34m,\u001b[0m \u001b[0mkwds\u001b[0m\u001b[0;34m)\u001b[0m\u001b[0;34m\u001b[0m\u001b[0m\n\u001b[0m\u001b[1;32m    563\u001b[0m \u001b[0;34m\u001b[0m\u001b[0m\n\u001b[1;32m    564\u001b[0m     \u001b[0mparser_f\u001b[0m\u001b[0;34m.\u001b[0m\u001b[0m__name__\u001b[0m \u001b[0;34m=\u001b[0m \u001b[0mname\u001b[0m\u001b[0;34m\u001b[0m\u001b[0m\n",
      "\u001b[0;32m/home/modhurita/anaconda2/lib/python2.7/site-packages/pandas/io/parsers.pyc\u001b[0m in \u001b[0;36m_read\u001b[0;34m(filepath_or_buffer, kwds)\u001b[0m\n\u001b[1;32m    313\u001b[0m \u001b[0;34m\u001b[0m\u001b[0m\n\u001b[1;32m    314\u001b[0m     \u001b[0;31m# Create the parser.\u001b[0m\u001b[0;34m\u001b[0m\u001b[0;34m\u001b[0m\u001b[0m\n\u001b[0;32m--> 315\u001b[0;31m     \u001b[0mparser\u001b[0m \u001b[0;34m=\u001b[0m \u001b[0mTextFileReader\u001b[0m\u001b[0;34m(\u001b[0m\u001b[0mfilepath_or_buffer\u001b[0m\u001b[0;34m,\u001b[0m \u001b[0;34m**\u001b[0m\u001b[0mkwds\u001b[0m\u001b[0;34m)\u001b[0m\u001b[0;34m\u001b[0m\u001b[0m\n\u001b[0m\u001b[1;32m    316\u001b[0m \u001b[0;34m\u001b[0m\u001b[0m\n\u001b[1;32m    317\u001b[0m     \u001b[0;32mif\u001b[0m \u001b[0;34m(\u001b[0m\u001b[0mnrows\u001b[0m \u001b[0;32mis\u001b[0m \u001b[0;32mnot\u001b[0m \u001b[0mNone\u001b[0m\u001b[0;34m)\u001b[0m \u001b[0;32mand\u001b[0m \u001b[0;34m(\u001b[0m\u001b[0mchunksize\u001b[0m \u001b[0;32mis\u001b[0m \u001b[0;32mnot\u001b[0m \u001b[0mNone\u001b[0m\u001b[0;34m)\u001b[0m\u001b[0;34m:\u001b[0m\u001b[0;34m\u001b[0m\u001b[0m\n",
      "\u001b[0;32m/home/modhurita/anaconda2/lib/python2.7/site-packages/pandas/io/parsers.pyc\u001b[0m in \u001b[0;36m__init__\u001b[0;34m(self, f, engine, **kwds)\u001b[0m\n\u001b[1;32m    643\u001b[0m             \u001b[0mself\u001b[0m\u001b[0;34m.\u001b[0m\u001b[0moptions\u001b[0m\u001b[0;34m[\u001b[0m\u001b[0;34m'has_index_names'\u001b[0m\u001b[0;34m]\u001b[0m \u001b[0;34m=\u001b[0m \u001b[0mkwds\u001b[0m\u001b[0;34m[\u001b[0m\u001b[0;34m'has_index_names'\u001b[0m\u001b[0;34m]\u001b[0m\u001b[0;34m\u001b[0m\u001b[0m\n\u001b[1;32m    644\u001b[0m \u001b[0;34m\u001b[0m\u001b[0m\n\u001b[0;32m--> 645\u001b[0;31m         \u001b[0mself\u001b[0m\u001b[0;34m.\u001b[0m\u001b[0m_make_engine\u001b[0m\u001b[0;34m(\u001b[0m\u001b[0mself\u001b[0m\u001b[0;34m.\u001b[0m\u001b[0mengine\u001b[0m\u001b[0;34m)\u001b[0m\u001b[0;34m\u001b[0m\u001b[0m\n\u001b[0m\u001b[1;32m    646\u001b[0m \u001b[0;34m\u001b[0m\u001b[0m\n\u001b[1;32m    647\u001b[0m     \u001b[0;32mdef\u001b[0m \u001b[0mclose\u001b[0m\u001b[0;34m(\u001b[0m\u001b[0mself\u001b[0m\u001b[0;34m)\u001b[0m\u001b[0;34m:\u001b[0m\u001b[0;34m\u001b[0m\u001b[0m\n",
      "\u001b[0;32m/home/modhurita/anaconda2/lib/python2.7/site-packages/pandas/io/parsers.pyc\u001b[0m in \u001b[0;36m_make_engine\u001b[0;34m(self, engine)\u001b[0m\n\u001b[1;32m    797\u001b[0m     \u001b[0;32mdef\u001b[0m \u001b[0m_make_engine\u001b[0m\u001b[0;34m(\u001b[0m\u001b[0mself\u001b[0m\u001b[0;34m,\u001b[0m \u001b[0mengine\u001b[0m\u001b[0;34m=\u001b[0m\u001b[0;34m'c'\u001b[0m\u001b[0;34m)\u001b[0m\u001b[0;34m:\u001b[0m\u001b[0;34m\u001b[0m\u001b[0m\n\u001b[1;32m    798\u001b[0m         \u001b[0;32mif\u001b[0m \u001b[0mengine\u001b[0m \u001b[0;34m==\u001b[0m \u001b[0;34m'c'\u001b[0m\u001b[0;34m:\u001b[0m\u001b[0;34m\u001b[0m\u001b[0m\n\u001b[0;32m--> 799\u001b[0;31m             \u001b[0mself\u001b[0m\u001b[0;34m.\u001b[0m\u001b[0m_engine\u001b[0m \u001b[0;34m=\u001b[0m \u001b[0mCParserWrapper\u001b[0m\u001b[0;34m(\u001b[0m\u001b[0mself\u001b[0m\u001b[0;34m.\u001b[0m\u001b[0mf\u001b[0m\u001b[0;34m,\u001b[0m \u001b[0;34m**\u001b[0m\u001b[0mself\u001b[0m\u001b[0;34m.\u001b[0m\u001b[0moptions\u001b[0m\u001b[0;34m)\u001b[0m\u001b[0;34m\u001b[0m\u001b[0m\n\u001b[0m\u001b[1;32m    800\u001b[0m         \u001b[0;32melse\u001b[0m\u001b[0;34m:\u001b[0m\u001b[0;34m\u001b[0m\u001b[0m\n\u001b[1;32m    801\u001b[0m             \u001b[0;32mif\u001b[0m \u001b[0mengine\u001b[0m \u001b[0;34m==\u001b[0m \u001b[0;34m'python'\u001b[0m\u001b[0;34m:\u001b[0m\u001b[0;34m\u001b[0m\u001b[0m\n",
      "\u001b[0;32m/home/modhurita/anaconda2/lib/python2.7/site-packages/pandas/io/parsers.pyc\u001b[0m in \u001b[0;36m__init__\u001b[0;34m(self, src, **kwds)\u001b[0m\n\u001b[1;32m   1211\u001b[0m         \u001b[0mkwds\u001b[0m\u001b[0;34m[\u001b[0m\u001b[0;34m'allow_leading_cols'\u001b[0m\u001b[0;34m]\u001b[0m \u001b[0;34m=\u001b[0m \u001b[0mself\u001b[0m\u001b[0;34m.\u001b[0m\u001b[0mindex_col\u001b[0m \u001b[0;32mis\u001b[0m \u001b[0;32mnot\u001b[0m \u001b[0mFalse\u001b[0m\u001b[0;34m\u001b[0m\u001b[0m\n\u001b[1;32m   1212\u001b[0m \u001b[0;34m\u001b[0m\u001b[0m\n\u001b[0;32m-> 1213\u001b[0;31m         \u001b[0mself\u001b[0m\u001b[0;34m.\u001b[0m\u001b[0m_reader\u001b[0m \u001b[0;34m=\u001b[0m \u001b[0m_parser\u001b[0m\u001b[0;34m.\u001b[0m\u001b[0mTextReader\u001b[0m\u001b[0;34m(\u001b[0m\u001b[0msrc\u001b[0m\u001b[0;34m,\u001b[0m \u001b[0;34m**\u001b[0m\u001b[0mkwds\u001b[0m\u001b[0;34m)\u001b[0m\u001b[0;34m\u001b[0m\u001b[0m\n\u001b[0m\u001b[1;32m   1214\u001b[0m \u001b[0;34m\u001b[0m\u001b[0m\n\u001b[1;32m   1215\u001b[0m         \u001b[0;31m# XXX\u001b[0m\u001b[0;34m\u001b[0m\u001b[0;34m\u001b[0m\u001b[0m\n",
      "\u001b[0;32mpandas/parser.pyx\u001b[0m in \u001b[0;36mpandas.parser.TextReader.__cinit__ (pandas/parser.c:3427)\u001b[0;34m()\u001b[0m\n",
      "\u001b[0;32mpandas/parser.pyx\u001b[0m in \u001b[0;36mpandas.parser.TextReader._setup_parser_source (pandas/parser.c:6861)\u001b[0;34m()\u001b[0m\n",
      "\u001b[0;31mIOError\u001b[0m: File /home/modhurita/Work/SKA_blind_challenge_results_anonymized/team5/patwa_SKA_data_challenge/eor_p_noise_p_fg/ave1d_wei1_win1_eor_p_noise_p_fg_t_obsv_1000.0_hr.dat does not exist"
     ]
    }
   ],
   "source": [
    "#RRI\n",
    "directory = '/home/modhurita/Work/SKA_blind_challenge_results_anonymized/team4/patwa_SKA_data_challenge/eor_p_noise_p_fg/'\n",
    "\n",
    "#EoR\n",
    "file_name = 'ave1d_wei1_win1_eor_p_noise_p_fg_t_obsv_1000.0_hr.dat'\n",
    "filename = directory+file_name\n",
    "\n",
    "df_eor = pd.read_csv(filename,delim_whitespace=True,usecols=[0,1,2],names=[('k',''),('EoR','d2'),('EoR','d2_sv')])\n",
    "\n",
    "#95% solution interval corresponds to 2*sigma, so divide by 2 to get sample variance (=sigma)\n",
    "df_eor['EoR','d2_sv'] = df_eor['EoR','d2_sv']/2\n",
    "\n",
    "#Compute error in EoR as d2 = sample variance of EoR signal (no noise values provided)\n",
    "df_eor['EoR', 'd2_total_error'] = df_eor['EoR','d2_sv']\n",
    "df = df_eor\n",
    "\n",
    "#Create final dataframe\n",
    "df_rri = df.assign(dataset='team5')"
   ]
  },
  {
   "cell_type": "code",
   "execution_count": null,
   "metadata": {
    "collapsed": false
   },
   "outputs": [],
   "source": [
    "#UKZN\n",
    "directory = '/home/modhurita/Work/SKA_blind_challenge_results_anonymized/ukzn/Archive/'\n",
    "\n",
    "#Noise\n",
    "file_name = 'noise_1000hrs_3d.txt'\n",
    "filename = directory+file_name\n",
    "df_noise = pd.read_csv(filename,skiprows=1,delim_whitespace=True,usecols=[1,2],names=[('Noise','d2'),('Noise','d2_sv')])\n",
    "\n",
    "#FG\n",
    "file_name = 'eor_p_noise_p_fg_1000hrs_fg_3d.txt'\n",
    "filename = directory+file_name\n",
    "df_fg = pd.read_csv(filename,skiprows=1,delim_whitespace=True,usecols=[1,2],names=[('FG','d2'),('FG','d2_sv')])\n",
    "\n",
    "#EoR\n",
    "file_name = 'eor_p_noise_p_fg_1000hrs_eor_3d.txt'\n",
    "filename = directory+file_name\n",
    "df_eor = pd.read_csv(filename,skiprows=1,delim_whitespace=True,usecols=[0,1,2],names=[('k',''),('EoR','d2'),('EoR','d2_sv')])\n",
    "\n",
    "#Compute error in EoR as d2 = sample variance of EoR signal + Noise\n",
    "df_eor['EoR', 'd2_total_error'] =  df_eor['EoR','d2_sv'] + df_noise['Noise','d2']\n",
    "\n",
    "#Concatenate the values of EoR, noise, FG into one dataframe\n",
    "df_list = [df_eor, df_noise, df_fg]\n",
    "df = pd.concat(df_list,axis=1,join='inner')\n",
    "\n",
    "#Create final dataframe\n",
    "df_ukzn = df.assign(dataset='team6')"
   ]
  },
  {
   "cell_type": "code",
   "execution_count": null,
   "metadata": {
    "collapsed": false
   },
   "outputs": [],
   "source": [
    "#Concatenate results from different groups into a single dataframe\n",
    "df = pd.concat([df_truth, df_kapteyn, df_curtin, df_bao_img, df_bao_vis, df_rri, df_ukzn])\n",
    "\n",
    "#Replace NaNs with empty cells\n",
    "df = df.fillna('')\n",
    "\n",
    "#Reorder columns\n",
    "cols = [('dataset',''),('k',''),('EoR','d2'),('EoR','d2_sv'),('EoR', 'd2_total_error'),('Noise','d2'),('Noise','d2_sv'),('FG','d2'),('FG','d2_sv')]\n",
    "df = df[cols]"
   ]
  },
  {
   "cell_type": "code",
   "execution_count": null,
   "metadata": {
    "collapsed": false
   },
   "outputs": [],
   "source": [
    "#Plot raw results\n",
    "\n",
    "plt.hold('on')\n",
    "plt.yscale('log')\n",
    "plt.xscale('log')\n",
    "plt.xlim([0.06,0.6])\n",
    "\n",
    "for i in range(len(datasets)):\n",
    "    dataset=datasets[i]\n",
    "    plt_color=plt_colors[i]\n",
    "    k=df.loc[df['dataset']==dataset]['k'].values\n",
    "    d2=df.loc[df['dataset']==dataset][('EoR','d2')].values\n",
    "    d2_err=df.loc[df['dataset']==dataset][('EoR','d2_total_error')].values\n",
    "    plt.errorbar(x=k,y=d2,yerr=d2_err,marker='.',mfc=plt_color,mec=plt_color,color=plt_color,linestyle='-',label=dataset)\n",
    "\n",
    "plt.xlabel('$k$ [h cMpc$^{-1}$]')\n",
    "plt.ylabel('$\\Delta^2 (k)$ [mK$^2$]')\n",
    "plt.legend(loc='upper left',bbox_to_anchor=(1.05,1))\n",
    "plt.ylim(1e-4,1e5)\n",
    "plt.savefig('%s/eor_noise_fg_%sh_results.jpg'%(plots_directory,obsv_time),dpi=300,bbox_inches='tight')\n",
    "plt.savefig('%s/eor_noise_fg_%sh_results.eps'%(plots_directory,obsv_time),dpi=300,bbox_inches='tight')\n",
    "plt.show()\n",
    "plt.hold('off')"
   ]
  },
  {
   "cell_type": "markdown",
   "metadata": {},
   "source": [
    "**Figure 1**: *Spherically-averaged 3D power spectrum: Submitted results*"
   ]
  },
  {
   "cell_type": "code",
   "execution_count": null,
   "metadata": {
    "collapsed": false
   },
   "outputs": [],
   "source": [
    "from scipy.interpolate import interp1d\n",
    "\n",
    "dataset='truth'    \n",
    "k_truth=df.loc[df['dataset']==dataset]['k'].values\n",
    "d2_truth=df.loc[df['dataset']==dataset][('EoR','d2')].values\n",
    "f = interp1d(k_truth,d2_truth,fill_value='extrapolate')\n",
    "\n",
    "df['d2_EoR_interp']=''\n",
    "\n",
    "for i in range(1,len(datasets)):\n",
    "    dataset=datasets[i]\n",
    "    k=df.loc[df['dataset']==dataset]['k'].values\n",
    "    df.loc[df['dataset']==dataset,'d2_EoR_interp'] = f(k)\n",
    "    "
   ]
  },
  {
   "cell_type": "code",
   "execution_count": null,
   "metadata": {
    "collapsed": false
   },
   "outputs": [],
   "source": [
    "#Plot difference in d2_EoR, |calculated-truth|\n",
    "\n",
    "plt.hold('on')\n",
    "plt.yscale('log')\n",
    "plt.xscale('log')\n",
    "plt.xlim([0.06,0.6])\n",
    "\n",
    "for i in range(1,len(datasets)):\n",
    "    \n",
    "    dataset=datasets[i]\n",
    "    plt_color=plt_colors[i]\n",
    "    \n",
    "    k=df.loc[df['dataset']==dataset]['k'].values\n",
    "    \n",
    "    d2_recovered = df.loc[df['dataset']==dataset][('EoR','d2')].values \n",
    "    d2_interpolated = df.loc[df['dataset']==dataset]['d2_EoR_interp'].values\n",
    "    d2_diff = d2_recovered - d2_interpolated\n",
    "    d2_diff = np.abs(d2_diff)\n",
    "    \n",
    "    d2_err=df.loc[df['dataset']==dataset][('EoR','d2_total_error')].values\n",
    "    \n",
    "    plt.errorbar(x=k,y=d2_diff,yerr=d2_err,marker='.',mfc=plt_color,mec=plt_color,color=plt_color,linestyle='-',label=dataset)\n",
    "\n",
    "plt.xlabel('$k$ [h cMpc$^{-1}$]')\n",
    "plt.ylabel('$\\Delta^2 (k) - \\Delta^2_0 (k)$ [mK$^2$]')\n",
    "plt.legend(loc='upper left',bbox_to_anchor=(1.05,1))\n",
    "plt.ylim(1e-2,1e5)\n",
    "plt.savefig('%s/eor_noise_fg_%sh_difference.jpg'%(plots_directory,obsv_time),dpi=300,bbox_inches='tight')\n",
    "plt.savefig('%s/eor_noise_fg_%sh_difference.eps'%(plots_directory,obsv_time),dpi=300,bbox_inches='tight')\n",
    "plt.show()\n",
    "plt.hold('off')"
   ]
  },
  {
   "cell_type": "markdown",
   "metadata": {},
   "source": [
    "**Figure 2**: *Spherically-averaged 3D power spectrum: Difference between submitted results and truth* "
   ]
  },
  {
   "cell_type": "code",
   "execution_count": null,
   "metadata": {
    "collapsed": false,
    "scrolled": true
   },
   "outputs": [],
   "source": [
    "#Plot fractional difference in d2_EoR, |calculated-truth|/truth\n",
    "\n",
    "plt.hold('on')\n",
    "plt.yscale('log')\n",
    "plt.xscale('log')\n",
    "plt.xlim([0.06,0.6])\n",
    "\n",
    "for i in range(1,len(datasets)):\n",
    "    \n",
    "    dataset=datasets[i]\n",
    "    plt_color=plt_colors[i]\n",
    "    \n",
    "    k=df.loc[df['dataset']==dataset]['k'].values\n",
    "    \n",
    "    d2_recovered = df.loc[df['dataset']==dataset][('EoR','d2')].values \n",
    "    d2_interpolated = df.loc[df['dataset']==dataset]['d2_EoR_interp'].values\n",
    "    d2_diff = d2_recovered - d2_interpolated\n",
    "    d2_diff = np.abs(d2_diff)\n",
    "    d2_diff_ratio = d2_diff/d2_interpolated\n",
    "        \n",
    "    d2_err=df.loc[df['dataset']==dataset][('EoR','d2_total_error')].values\n",
    "    d2_diff_err = d2_err/d2_interpolated\n",
    "\n",
    "    plt.errorbar(x=k,y=d2_diff_ratio,yerr=d2_diff_err,marker='.',mfc=plt_color,mec=plt_color,color=plt_color,linestyle='-',label=dataset)\n",
    "\n",
    "plt.xlabel('$k$ [h cMpc$^{-1}$]')\n",
    "plt.ylabel('$\\\\frac{\\Delta^2 (k) - \\Delta^2_0 (k)}{\\Delta^2_0 (k)}$')\n",
    "plt.legend(loc='upper left',bbox_to_anchor=(1.05,1))\n",
    "plt.ylim(1e-2,1e4)\n",
    "plt.savefig('%s/eor_noise_fg_%sh_fractional_difference.jpg'%(plots_directory,obsv_time),dpi=300,bbox_inches='tight')\n",
    "plt.savefig('%s/eor_noise_fg_%sh_fractional_difference.eps'%(plots_directory,obsv_time),dpi=300,bbox_inches='tight')\n",
    "plt.show()\n",
    "plt.hold('off')"
   ]
  },
  {
   "cell_type": "markdown",
   "metadata": {},
   "source": [
    "**Figure 3**: *Spherically-averaged 3D power spectrum: Fractional difference between submitted results and truth* "
   ]
  },
  {
   "cell_type": "code",
   "execution_count": null,
   "metadata": {
    "collapsed": false
   },
   "outputs": [],
   "source": [
    "#Plot ratio of d2_EoR, calculated/truth\n",
    "\n",
    "plt.hold('on')\n",
    "plt.yscale('log')\n",
    "plt.xscale('log')\n",
    "plt.xlim([0.06,0.6])\n",
    "\n",
    "for i in range(1,len(datasets)):\n",
    "    \n",
    "    dataset=datasets[i]\n",
    "    plt_color=plt_colors[i]\n",
    "    \n",
    "    k=df.loc[df['dataset']==dataset]['k'].values\n",
    "    \n",
    "    d2_recovered = df.loc[df['dataset']==dataset][('EoR','d2')].values \n",
    "    d2_interpolated = df.loc[df['dataset']==dataset]['d2_EoR_interp'].values\n",
    "    d2_ratio = d2_recovered/d2_interpolated\n",
    "        \n",
    "    d2_err=df.loc[df['dataset']==dataset][('EoR','d2_total_error')].values\n",
    "    d2_ratio_err = d2_err/d2_interpolated\n",
    "    \n",
    "    plt.errorbar(x=k,y=d2_ratio,yerr=d2_ratio_err,marker='.',mfc=plt_color,mec=plt_color,color=plt_color,linestyle='-',label=dataset)\n",
    "\n",
    "plt.xlabel('$k$ [h cMpc$^{-1}$]')\n",
    "plt.ylabel('$\\\\frac{\\Delta^2 (k)}{\\Delta^2_0 (k)}$')\n",
    "plt.legend(loc='upper left',bbox_to_anchor=(1.05,1))\n",
    "plt.ylim(1e-4,1e4)\n",
    "plt.savefig('%s/eor_noise_fg_%sh_ratio.jpg'%(plots_directory,obsv_time),dpi=300,bbox_inches='tight')\n",
    "plt.savefig('%s/eor_noise_fg_%sh_ratio.eps'%(plots_directory,obsv_time),dpi=300,bbox_inches='tight')\n",
    "plt.show()\n",
    "plt.hold('off')"
   ]
  },
  {
   "cell_type": "markdown",
   "metadata": {
    "collapsed": true
   },
   "source": [
    "**Figure 4**: *Spherically-averaged 3D power spectrum: Ratio between submitted results and truth*"
   ]
  },
  {
   "cell_type": "code",
   "execution_count": null,
   "metadata": {
    "collapsed": false
   },
   "outputs": [],
   "source": [
    "#Compute reduced chi-squared statistic\n",
    "\n",
    "#Reduced chi squared\n",
    "reduced_chi_squared = []\n",
    "\n",
    "for dataset in datasets[1:]:\n",
    "    \n",
    "    #Estimated d2\n",
    "    d2 = df.loc[df['dataset']==dataset][('EoR','d2')].values\n",
    "    d2_error = df.loc[df['dataset']==dataset][('EoR','d2_total_error')].values\n",
    "    \n",
    "    #Truth d2\n",
    "    d2_truth_interp = df.loc[df['dataset']==dataset]['d2_EoR_interp'].values\n",
    "    \n",
    "    #Degrees of freedom\n",
    "    k = df.loc[df['dataset']==dataset]['k'].values\n",
    "    dof = len(k)\n",
    "    \n",
    "    #Chi squared\n",
    "    chi_sq = np.sum(np.square(d2 - d2_truth_interp))\n",
    "    #Reduced chi squared\n",
    "    red_chi_sq = chi_sq/dof\n",
    "    reduced_chi_squared.append(red_chi_sq)\n",
    "\n",
    "group_position = np.arange(len(datasets)-1)\n",
    "\n",
    "plt.bar(group_position,reduced_chi_squared,align='center')\n",
    "plt.xlabel('Group')\n",
    "plt.ylabel('Reduced $\\chi^2$')\n",
    "plt.xticks(group_position,datasets[1:],rotation='vertical')\n",
    "plt.yscale('log')\n",
    "plt.ylim(1,1e9)\n",
    "plt.savefig('%s/eor_noise_fg_%sh_reduced_chi_squared.jpg'%(plots_directory,obsv_time),dpi=300,bbox_inches='tight')\n",
    "plt.savefig('%s/eor_noise_fg_%sh_reduced_chi_squared.eps'%(plots_directory,obsv_time),dpi=300,bbox_inches='tight')\n",
    "plt.show()\n",
    "plt.hold('off')"
   ]
  },
  {
   "cell_type": "markdown",
   "metadata": {},
   "source": [
    "**Figure 5**: *Spherically-averaged 3D power spectrum: Reduced $\\chi^2$*"
   ]
  },
  {
   "cell_type": "markdown",
   "metadata": {},
   "source": [
    "## Data"
   ]
  },
  {
   "cell_type": "code",
   "execution_count": null,
   "metadata": {
    "collapsed": false
   },
   "outputs": [],
   "source": [
    "df"
   ]
  }
 ],
 "metadata": {
  "anaconda-cloud": {},
  "kernelspec": {
   "display_name": "Python [conda root]",
   "language": "python",
   "name": "conda-root-py"
  },
  "language_info": {
   "codemirror_mode": {
    "name": "ipython",
    "version": 2
   },
   "file_extension": ".py",
   "mimetype": "text/x-python",
   "name": "python",
   "nbconvert_exporter": "python",
   "pygments_lexer": "ipython2",
   "version": "2.7.12"
  }
 },
 "nbformat": 4,
 "nbformat_minor": 1
}
